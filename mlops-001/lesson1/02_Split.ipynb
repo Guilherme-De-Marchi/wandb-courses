{
  "nbformat": 4,
  "nbformat_minor": 0,
  "metadata": {
    "colab": {
      "provenance": [],
      "authorship_tag": "ABX9TyMxsqrxBlv/oVH9KHjoINuS",
      "include_colab_link": true
    },
    "kernelspec": {
      "name": "python3",
      "display_name": "Python 3"
    },
    "language_info": {
      "name": "python"
    }
  },
  "cells": [
    {
      "cell_type": "markdown",
      "metadata": {
        "id": "view-in-github",
        "colab_type": "text"
      },
      "source": [
        "<a href=\"https://colab.research.google.com/github/Guilherme-De-Marchi/wandb-courses/blob/main/mlops-001/lesson1/02_Split.ipynb\" target=\"_parent\"><img src=\"https://colab.research.google.com/assets/colab-badge.svg\" alt=\"Open In Colab\"/></a>"
      ]
    },
    {
      "cell_type": "code",
      "execution_count": 8,
      "metadata": {
        "colab": {
          "base_uri": "https://localhost:8080/"
        },
        "id": "mRz5amz-D7D1",
        "outputId": "aa78be39-7613-43cc-e168-288e0144d28a"
      },
      "outputs": [
        {
          "output_type": "stream",
          "name": "stdout",
          "text": [
            "Drive already mounted at /content/drive; to attempt to forcibly remount, call drive.mount(\"/content/drive\", force_remount=True).\n",
            "Looking in indexes: https://pypi.org/simple, https://us-python.pkg.dev/colab-wheels/public/simple/\n",
            "Requirement already satisfied: wandb in /usr/local/lib/python3.9/dist-packages (0.14.2)\n",
            "Requirement already satisfied: appdirs>=1.4.3 in /usr/local/lib/python3.9/dist-packages (from wandb) (1.4.4)\n",
            "Requirement already satisfied: docker-pycreds>=0.4.0 in /usr/local/lib/python3.9/dist-packages (from wandb) (0.4.0)\n",
            "Requirement already satisfied: psutil>=5.0.0 in /usr/local/lib/python3.9/dist-packages (from wandb) (5.9.4)\n",
            "Requirement already satisfied: setuptools in /usr/local/lib/python3.9/dist-packages (from wandb) (67.6.1)\n",
            "Requirement already satisfied: setproctitle in /usr/local/lib/python3.9/dist-packages (from wandb) (1.3.2)\n",
            "Requirement already satisfied: pathtools in /usr/local/lib/python3.9/dist-packages (from wandb) (0.1.2)\n",
            "Requirement already satisfied: sentry-sdk>=1.0.0 in /usr/local/lib/python3.9/dist-packages (from wandb) (1.19.1)\n",
            "Requirement already satisfied: requests<3,>=2.0.0 in /usr/local/lib/python3.9/dist-packages (from wandb) (2.27.1)\n",
            "Requirement already satisfied: GitPython!=3.1.29,>=1.0.0 in /usr/local/lib/python3.9/dist-packages (from wandb) (3.1.31)\n",
            "Requirement already satisfied: typing-extensions in /usr/local/lib/python3.9/dist-packages (from wandb) (4.5.0)\n",
            "Requirement already satisfied: protobuf!=4.21.0,<5,>=3.15.0 in /usr/local/lib/python3.9/dist-packages (from wandb) (3.20.3)\n",
            "Requirement already satisfied: Click!=8.0.0,>=7.0 in /usr/local/lib/python3.9/dist-packages (from wandb) (8.1.3)\n",
            "Requirement already satisfied: PyYAML in /usr/local/lib/python3.9/dist-packages (from wandb) (6.0)\n",
            "Requirement already satisfied: six>=1.4.0 in /usr/local/lib/python3.9/dist-packages (from docker-pycreds>=0.4.0->wandb) (1.16.0)\n",
            "Requirement already satisfied: gitdb<5,>=4.0.1 in /usr/local/lib/python3.9/dist-packages (from GitPython!=3.1.29,>=1.0.0->wandb) (4.0.10)\n",
            "Requirement already satisfied: certifi>=2017.4.17 in /usr/local/lib/python3.9/dist-packages (from requests<3,>=2.0.0->wandb) (2022.12.7)\n",
            "Requirement already satisfied: idna<4,>=2.5 in /usr/local/lib/python3.9/dist-packages (from requests<3,>=2.0.0->wandb) (3.4)\n",
            "Requirement already satisfied: urllib3<1.27,>=1.21.1 in /usr/local/lib/python3.9/dist-packages (from requests<3,>=2.0.0->wandb) (1.26.15)\n",
            "Requirement already satisfied: charset-normalizer~=2.0.0 in /usr/local/lib/python3.9/dist-packages (from requests<3,>=2.0.0->wandb) (2.0.12)\n",
            "Requirement already satisfied: smmap<6,>=3.0.1 in /usr/local/lib/python3.9/dist-packages (from gitdb<5,>=4.0.1->GitPython!=3.1.29,>=1.0.0->wandb) (5.0.0)\n"
          ]
        }
      ],
      "source": [
        "from google.colab import drive\n",
        "drive.mount('/content/drive')\n",
        "\n",
        "!pip install wandb"
      ]
    },
    {
      "cell_type": "code",
      "source": [
        "import sys\n",
        "sys.path.append('/content/drive/MyDrive/Colab Notebooks/wandb-courses/mlops-001/lesson01')\n",
        "\n",
        "import os, warnings\n",
        "import wandb\n",
        "\n",
        "import pandas as pd\n",
        "from fastai.vision.all import *\n",
        "from sklearn.model_selection import StratifiedGroupKFold\n",
        "\n",
        "import params\n",
        "# warnings.filterwarnings('ignore')"
      ],
      "metadata": {
        "id": "3H1RwPGUE5x9"
      },
      "execution_count": 16,
      "outputs": []
    },
    {
      "cell_type": "code",
      "source": [
        "run = wandb.init(project=params.WANDB_PROJECT, entity=params.ENTITY, job_type=\"data_split\")"
      ],
      "metadata": {
        "colab": {
          "base_uri": "https://localhost:8080/",
          "height": 191
        },
        "id": "wbfOmBQEG0El",
        "outputId": "ce3b7d44-6f62-4fb9-a8db-c3e259a51771"
      },
      "execution_count": 17,
      "outputs": [
        {
          "output_type": "display_data",
          "data": {
            "text/plain": [
              "<IPython.core.display.Javascript object>"
            ],
            "application/javascript": [
              "\n",
              "        window._wandbApiKey = new Promise((resolve, reject) => {\n",
              "            function loadScript(url) {\n",
              "            return new Promise(function(resolve, reject) {\n",
              "                let newScript = document.createElement(\"script\");\n",
              "                newScript.onerror = reject;\n",
              "                newScript.onload = resolve;\n",
              "                document.body.appendChild(newScript);\n",
              "                newScript.src = url;\n",
              "            });\n",
              "            }\n",
              "            loadScript(\"https://cdn.jsdelivr.net/npm/postmate/build/postmate.min.js\").then(() => {\n",
              "            const iframe = document.createElement('iframe')\n",
              "            iframe.style.cssText = \"width:0;height:0;border:none\"\n",
              "            document.body.appendChild(iframe)\n",
              "            const handshake = new Postmate({\n",
              "                container: iframe,\n",
              "                url: 'https://wandb.ai/authorize'\n",
              "            });\n",
              "            const timeout = setTimeout(() => reject(\"Couldn't auto authenticate\"), 5000)\n",
              "            handshake.then(function(child) {\n",
              "                child.on('authorize', data => {\n",
              "                    clearTimeout(timeout)\n",
              "                    resolve(data)\n",
              "                });\n",
              "            });\n",
              "            })\n",
              "        });\n",
              "    "
            ]
          },
          "metadata": {}
        },
        {
          "output_type": "stream",
          "name": "stderr",
          "text": [
            "\u001b[34m\u001b[1mwandb\u001b[0m: Logging into wandb.ai. (Learn how to deploy a W&B server locally: https://wandb.me/wandb-server)\n",
            "\u001b[34m\u001b[1mwandb\u001b[0m: You can find your API key in your browser here: https://wandb.ai/authorize\n",
            "wandb: Paste an API key from your profile and hit enter, or press ctrl+c to quit:"
          ]
        },
        {
          "name": "stdout",
          "output_type": "stream",
          "text": [
            " ··········\n"
          ]
        },
        {
          "output_type": "stream",
          "name": "stderr",
          "text": [
            "\u001b[34m\u001b[1mwandb\u001b[0m: Appending key for api.wandb.ai to your netrc file: /root/.netrc\n"
          ]
        },
        {
          "output_type": "display_data",
          "data": {
            "text/plain": [
              "<IPython.core.display.HTML object>"
            ],
            "text/html": [
              "Tracking run with wandb version 0.14.2"
            ]
          },
          "metadata": {}
        },
        {
          "output_type": "display_data",
          "data": {
            "text/plain": [
              "<IPython.core.display.HTML object>"
            ],
            "text/html": [
              "Run data is saved locally in <code>/content/wandb/run-20230407_235453-lxvesbbd</code>"
            ]
          },
          "metadata": {}
        },
        {
          "output_type": "display_data",
          "data": {
            "text/plain": [
              "<IPython.core.display.HTML object>"
            ],
            "text/html": [
              "Syncing run <strong><a href='https://wandb.ai/guilhermedemarchi13/mlops-course-001/runs/lxvesbbd' target=\"_blank\">decent-pond-4</a></strong> to <a href='https://wandb.ai/guilhermedemarchi13/mlops-course-001' target=\"_blank\">Weights & Biases</a> (<a href='https://wandb.me/run' target=\"_blank\">docs</a>)<br/>"
            ]
          },
          "metadata": {}
        },
        {
          "output_type": "display_data",
          "data": {
            "text/plain": [
              "<IPython.core.display.HTML object>"
            ],
            "text/html": [
              " View project at <a href='https://wandb.ai/guilhermedemarchi13/mlops-course-001' target=\"_blank\">https://wandb.ai/guilhermedemarchi13/mlops-course-001</a>"
            ]
          },
          "metadata": {}
        },
        {
          "output_type": "display_data",
          "data": {
            "text/plain": [
              "<IPython.core.display.HTML object>"
            ],
            "text/html": [
              " View run at <a href='https://wandb.ai/guilhermedemarchi13/mlops-course-001/runs/lxvesbbd' target=\"_blank\">https://wandb.ai/guilhermedemarchi13/mlops-course-001/runs/lxvesbbd</a>"
            ]
          },
          "metadata": {}
        }
      ]
    },
    {
      "cell_type": "markdown",
      "source": [
        "Let's use artifact we previously saved to W&B (we're storing artifact names and other global parameters in params)."
      ],
      "metadata": {
        "id": "6Un29fjWJTDd"
      }
    },
    {
      "cell_type": "code",
      "source": [
        "raw_data_at = run.use_artifact(f'{params.RAW_DATA_AT}:latest')\n",
        "path = Path(raw_data_at.download())"
      ],
      "metadata": {
        "colab": {
          "base_uri": "https://localhost:8080/"
        },
        "id": "16uhCceLJT_E",
        "outputId": "2e54a4b0-99f2-4817-9c1c-605acf6108b2"
      },
      "execution_count": 18,
      "outputs": [
        {
          "output_type": "stream",
          "name": "stderr",
          "text": [
            "\u001b[34m\u001b[1mwandb\u001b[0m: Downloading large artifact bdd_simple_1k:latest, 813.75MB. 4007 files... \n",
            "\u001b[34m\u001b[1mwandb\u001b[0m:   4007 of 4007 files downloaded.  \n",
            "Done. 0:0:55.6\n"
          ]
        }
      ]
    },
    {
      "cell_type": "code",
      "source": [
        "# path.ls()\n",
        "(path/'images').ls()"
      ],
      "metadata": {
        "colab": {
          "base_uri": "https://localhost:8080/"
        },
        "id": "dxCuVLO8JoGo",
        "outputId": "47818ce5-d401-4110-da09-e90a75d6ade2"
      },
      "execution_count": 20,
      "outputs": [
        {
          "output_type": "execute_result",
          "data": {
            "text/plain": [
              "(#1000) [Path('artifacts/bdd_simple_1k:v0/images/0bc1e57d-0331a843.jpg'),Path('artifacts/bdd_simple_1k:v0/images/bc92a87d-aaafd269.jpg'),Path('artifacts/bdd_simple_1k:v0/images/38b474cc-3efec58a.jpg'),Path('artifacts/bdd_simple_1k:v0/images/835df354-00000000.jpg'),Path('artifacts/bdd_simple_1k:v0/images/67c3676f-0aa098df.jpg'),Path('artifacts/bdd_simple_1k:v0/images/00e9be89-00001605.jpg'),Path('artifacts/bdd_simple_1k:v0/images/a06a4b0e-c5241837.jpg'),Path('artifacts/bdd_simple_1k:v0/images/c6d7400d-8a08045e.jpg'),Path('artifacts/bdd_simple_1k:v0/images/84cad8e7-6a28398d.jpg'),Path('artifacts/bdd_simple_1k:v0/images/af59aee0-759730e7.jpg')...]"
            ]
          },
          "metadata": {},
          "execution_count": 20
        }
      ]
    },
    {
      "cell_type": "markdown",
      "source": [
        "To split data between training, testing and validation, we need file names, groups (derived from the file name) and target (here we use our rare class bicycle for stratification). We previously saved these columns to EDA table, so let's retrieve it from the table now."
      ],
      "metadata": {
        "id": "dicfEO7uKddJ"
      }
    },
    {
      "cell_type": "code",
      "source": [
        "fnames = os.listdir(path/'images')\n",
        "groups = [s.split('-')[0] for s in fnames]"
      ],
      "metadata": {
        "id": "TYIrPxShJroC"
      },
      "execution_count": 21,
      "outputs": []
    },
    {
      "cell_type": "code",
      "source": [
        "orig_eda_table = raw_data_at.get(\"eda_table\")"
      ],
      "metadata": {
        "colab": {
          "base_uri": "https://localhost:8080/"
        },
        "id": "THrWmT5SKA3u",
        "outputId": "808ff9a2-fd42-4f5d-fbbb-5423bd161d5c"
      },
      "execution_count": 22,
      "outputs": [
        {
          "output_type": "stream",
          "name": "stderr",
          "text": [
            "\u001b[34m\u001b[1mwandb\u001b[0m: Downloading large artifact bdd_simple_1k:latest, 813.75MB. 4007 files... \n",
            "\u001b[34m\u001b[1mwandb\u001b[0m:   4007 of 4007 files downloaded.  \n",
            "Done. 0:0:2.0\n"
          ]
        }
      ]
    },
    {
      "cell_type": "code",
      "source": [
        "y = orig_eda_table.get_column('bicycle')"
      ],
      "metadata": {
        "id": "PPYjRfpfKYZB"
      },
      "execution_count": 23,
      "outputs": []
    },
    {
      "cell_type": "markdown",
      "source": [
        "\n",
        "\n",
        "Now we will split the data into train (80%), validation (10%) and test (10%) sets. As we do that, we need to be careful to:\n",
        "\n",
        "    avoid leakage: for that reason we are grouping data according to video identifier (we want to make sure our model can generalize to new cars or video frames)\n",
        "    handle the label imbalance: for that reason we stratify data with our target column\n",
        "\n",
        "We will use sklearn's StratifiedGroupKFold to split the data into 10 folds and assign 1 fold for test, 1 for validation and the rest for training.\n"
      ],
      "metadata": {
        "id": "chZPHm28KeiI"
      }
    },
    {
      "cell_type": "code",
      "source": [
        "df = pd.DataFrame()\n",
        "df['File_Name'] = fnames\n",
        "df['fold'] = -1"
      ],
      "metadata": {
        "id": "lxVNEo_3KgaZ"
      },
      "execution_count": 24,
      "outputs": []
    },
    {
      "cell_type": "code",
      "source": [
        "cv = StratifiedGroupKFold(n_splits=10)\n",
        "for i, (train_idxs, test_idxs) in enumerate(cv.split(fnames, y, groups)):\n",
        "    df.loc[test_idxs, ['fold']] = i"
      ],
      "metadata": {
        "id": "PoUZHL63KxjG"
      },
      "execution_count": 25,
      "outputs": []
    },
    {
      "cell_type": "code",
      "source": [
        "df['Stage'] = 'train'\n",
        "df.loc[df.fold == 0, ['Stage']] = 'test'\n",
        "df.loc[df.fold == 1, ['Stage']] = 'valid'\n",
        "del df['fold']\n",
        "df.Stage.value_counts()"
      ],
      "metadata": {
        "colab": {
          "base_uri": "https://localhost:8080/"
        },
        "id": "S3T7JB8xK4E_",
        "outputId": "accfe04e-01ef-4872-98ce-e12fa2e118ac"
      },
      "execution_count": 26,
      "outputs": [
        {
          "output_type": "execute_result",
          "data": {
            "text/plain": [
              "train    800\n",
              "test     100\n",
              "valid    100\n",
              "Name: Stage, dtype: int64"
            ]
          },
          "metadata": {},
          "execution_count": 26
        }
      ]
    },
    {
      "cell_type": "code",
      "source": [
        "df.to_csv('data_split.csv', index=False)"
      ],
      "metadata": {
        "id": "x9pnfg9rLLqw"
      },
      "execution_count": 27,
      "outputs": []
    },
    {
      "cell_type": "markdown",
      "source": [
        "We will now create a new artifact and add our data there."
      ],
      "metadata": {
        "id": "EiTdRwClLSZs"
      }
    },
    {
      "cell_type": "code",
      "source": [
        "processed_data_at = wandb.Artifact(params.PROCESSED_DATA_AT, type=\"split_data\")"
      ],
      "metadata": {
        "id": "ulUBH_EoLOPD"
      },
      "execution_count": 28,
      "outputs": []
    },
    {
      "cell_type": "code",
      "source": [
        "processed_data_at.add_file('data_split.csv')\n",
        "processed_data_at.add_dir(path)"
      ],
      "metadata": {
        "colab": {
          "base_uri": "https://localhost:8080/"
        },
        "id": "kOEY57suLVQS",
        "outputId": "efa90eb9-70cb-49e6-ea0b-b351dd836043"
      },
      "execution_count": 29,
      "outputs": [
        {
          "output_type": "stream",
          "name": "stderr",
          "text": [
            "\u001b[34m\u001b[1mwandb\u001b[0m: Adding directory to artifact (./artifacts/bdd_simple_1k:v0)... Done. 6.6s\n"
          ]
        }
      ]
    },
    {
      "cell_type": "markdown",
      "source": [
        "Finally, the split information may be relevant for our analyses - rather than uploading images again, we will save the split information to a new table and join it with EDA table we created previously."
      ],
      "metadata": {
        "id": "c5vUUvsoLgRc"
      }
    },
    {
      "cell_type": "code",
      "source": [
        "data_split_table = wandb.Table(dataframe=df[['File_Name', 'Stage']])"
      ],
      "metadata": {
        "id": "Mz_JjucYLXAV"
      },
      "execution_count": 30,
      "outputs": []
    },
    {
      "cell_type": "code",
      "source": [
        "join_table = wandb.JoinedTable(orig_eda_table, data_split_table, \"File_Name\")"
      ],
      "metadata": {
        "id": "rmcl9ybWLmTk"
      },
      "execution_count": 31,
      "outputs": []
    },
    {
      "cell_type": "markdown",
      "source": [
        "Let's add it to our artifact, log it and finish our run."
      ],
      "metadata": {
        "id": "D9t20qxDLqJG"
      }
    },
    {
      "cell_type": "code",
      "source": [
        "processed_data_at.add(join_table, \"eda_table_data_split\")"
      ],
      "metadata": {
        "colab": {
          "base_uri": "https://localhost:8080/"
        },
        "id": "PiTi1YeMLoKW",
        "outputId": "ea878083-4b41-4544-b35d-5e145304d4ca"
      },
      "execution_count": 32,
      "outputs": [
        {
          "output_type": "execute_result",
          "data": {
            "text/plain": [
              "ArtifactManifestEntry(path='eda_table_data_split.joined-table.json', digest='FupBXkCDCQFdJP6HwIeN6w==', ref=None, birth_artifact_id=None, size=127, extra={}, local_path='/root/.local/share/wandb/artifacts/staging/tmpeaaa8cq4')"
            ]
          },
          "metadata": {},
          "execution_count": 32
        }
      ]
    },
    {
      "cell_type": "code",
      "source": [
        "run.log_artifact(processed_data_at)\n",
        "run.finish()"
      ],
      "metadata": {
        "colab": {
          "base_uri": "https://localhost:8080/",
          "height": 86
        },
        "id": "oic0atbTL4ij",
        "outputId": "355fedb4-be0e-4f2f-8411-8fa15f435f7d"
      },
      "execution_count": 33,
      "outputs": [
        {
          "output_type": "display_data",
          "data": {
            "text/plain": [
              "<IPython.core.display.HTML object>"
            ],
            "text/html": [
              "Waiting for W&B process to finish... <strong style=\"color:green\">(success).</strong>"
            ]
          },
          "metadata": {}
        },
        {
          "output_type": "display_data",
          "data": {
            "text/plain": [
              "<IPython.core.display.HTML object>"
            ],
            "text/html": [
              " View run <strong style=\"color:#cdcd00\">decent-pond-4</strong> at: <a href='https://wandb.ai/guilhermedemarchi13/mlops-course-001/runs/lxvesbbd' target=\"_blank\">https://wandb.ai/guilhermedemarchi13/mlops-course-001/runs/lxvesbbd</a><br/>Synced 5 W&B file(s), 0 media file(s), 4009 artifact file(s) and 0 other file(s)"
            ]
          },
          "metadata": {}
        },
        {
          "output_type": "display_data",
          "data": {
            "text/plain": [
              "<IPython.core.display.HTML object>"
            ],
            "text/html": [
              "Find logs at: <code>./wandb/run-20230407_235453-lxvesbbd/logs</code>"
            ]
          },
          "metadata": {}
        }
      ]
    }
  ]
}